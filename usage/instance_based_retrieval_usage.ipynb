{
 "cells": [
  {
   "cell_type": "code",
   "execution_count": 1,
   "metadata": {
    "collapsed": true
   },
   "outputs": [],
   "source": [
    "import sys\n",
    "sys.path.append('../')\n",
    "\n",
    "import retrieval_bot\n",
    "from config import corpus_path\n",
    "from config import cohesion_path\n",
    "from config import vectorizer_path\n",
    "from config import graph_path\n",
    "from config import send_x_path\n",
    "from config import reply_x_path\n",
    "from config import evaluator_model_path"
   ]
  },
  {
   "cell_type": "markdown",
   "metadata": {},
   "source": [
    "## pair corpus"
   ]
  },
  {
   "cell_type": "code",
   "execution_count": 2,
   "metadata": {},
   "outputs": [
    {
     "name": "stdout",
     "output_type": "stream",
     "text": [
      "num pairs = 5903206\n"
     ]
    }
   ],
   "source": [
    "from retrieval_bot import PairCorpus\n",
    "\n",
    "corpus = PairCorpus(corpus_path)\n",
    "print('num pairs = {}'.format(len(corpus)))"
   ]
  },
  {
   "cell_type": "markdown",
   "metadata": {},
   "source": [
    "## cohesion"
   ]
  },
  {
   "cell_type": "code",
   "execution_count": 3,
   "metadata": {
    "collapsed": true
   },
   "outputs": [],
   "source": [
    "from retrieval_bot.tokenizer import CohesionScore\n",
    "\n",
    "corpus.iter_pair = False\n",
    "cohesion_trainer = CohesionScore(debug=False)\n",
    "#scores = cohesion_trainer.train_and_scores(corpus)\n",
    "#cohesion_trainer.save(cohesion_path)\n",
    "cohesion_trainer.load(cohesion_path)\n",
    "scores = cohesion_trainer.scores()"
   ]
  },
  {
   "cell_type": "markdown",
   "metadata": {},
   "source": [
    "## tokenizer"
   ]
  },
  {
   "cell_type": "code",
   "execution_count": 4,
   "metadata": {},
   "outputs": [
    {
     "data": {
      "text/plain": [
       "['아니', '지금', '어디', '냐', '고?', '왜', '아직도', '안와?']"
      ]
     },
     "execution_count": 4,
     "metadata": {},
     "output_type": "execute_result"
    }
   ],
   "source": [
    "from retrieval_bot.tokenizer import MaxScoreTokenizer\n",
    "\n",
    "tokenizer = MaxScoreTokenizer(scores=scores)\n",
    "tokenizer.tokenize('아니지금어디냐고?왜아직도안와?')"
   ]
  },
  {
   "cell_type": "markdown",
   "metadata": {},
   "source": [
    "## vectorizer"
   ]
  },
  {
   "cell_type": "code",
   "execution_count": 5,
   "metadata": {},
   "outputs": [
    {
     "data": {
      "text/plain": [
       "17761"
      ]
     },
     "execution_count": 5,
     "metadata": {},
     "output_type": "execute_result"
    }
   ],
   "source": [
    "from retrieval_bot.vectorizer import Vectorizer\n",
    "\n",
    "corpus.limit_pairs = -1\n",
    "corpus.iter_pair = False\n",
    "vectorizer = Vectorizer(tokenizer=tokenizer, min_tf=2)\n",
    "# vectorizer = vectorizer.fit(corpus)\n",
    "# vectorizer.save(vectorizer_path)\n",
    "vectorizer.load(vectorizer_path)\n",
    "len(vectorizer.vocabulary_)"
   ]
  },
  {
   "cell_type": "markdown",
   "metadata": {},
   "source": [
    "## send2reply"
   ]
  },
  {
   "cell_type": "code",
   "execution_count": 6,
   "metadata": {},
   "outputs": [
    {
     "data": {
      "text/plain": [
       "42025"
      ]
     },
     "execution_count": 6,
     "metadata": {},
     "output_type": "execute_result"
    }
   ],
   "source": [
    "from retrieval_bot.db import Send2Reply\n",
    "\n",
    "corpus.iter_pair = True\n",
    "send2reply = Send2Reply()\n",
    "# send2reply.train(corpus)\n",
    "# send2reply.save(graph_path)\n",
    "send2reply.load(graph_path)\n",
    "len(send2reply)"
   ]
  },
  {
   "cell_type": "code",
   "execution_count": 7,
   "metadata": {
    "collapsed": true
   },
   "outputs": [],
   "source": [
    "from scipy.io import mmwrite\n",
    "from scipy.io import mmread\n",
    "\n",
    "# send_x = vectorizer.transform(send2reply.sends)\n",
    "# reply_x = vectorizer.transform(send2reply.replies)\n",
    "# mmwrite(send_x_path, send_x)\n",
    "# mmwrite(reply_x_path, reply_x)\n",
    "\n",
    "send_x = mmread(send_x_path).tocsr()\n",
    "reply_x = mmread(reply_x_path).tocsr()"
   ]
  },
  {
   "cell_type": "markdown",
   "metadata": {},
   "source": [
    "## Full search Index"
   ]
  },
  {
   "cell_type": "code",
   "execution_count": 8,
   "metadata": {
    "collapsed": true
   },
   "outputs": [],
   "source": [
    "from retrieval_bot.db import FullSearchIndexer\n",
    "\n",
    "send_indexer = FullSearchIndexer(send_x)"
   ]
  },
  {
   "cell_type": "code",
   "execution_count": 9,
   "metadata": {},
   "outputs": [
    {
     "name": "stdout",
     "output_type": "stream",
     "text": [
      "[    0 17039   963]\n",
      "[0.         0.29289322 0.29289322]\n"
     ]
    }
   ],
   "source": [
    "dist, idx = send_indexer.kneighbors(query=send_x[0], n_neighbors=10, max_distance=0.5)\n",
    "print(idx)\n",
    "print(dist)"
   ]
  },
  {
   "cell_type": "markdown",
   "metadata": {},
   "source": [
    "## Default Message"
   ]
  },
  {
   "cell_type": "code",
   "execution_count": 10,
   "metadata": {},
   "outputs": [
    {
     "name": "stdout",
     "output_type": "stream",
     "text": [
      "음...\n",
      "음...\n",
      "어...\n",
      "무슨 말이에요?\n",
      "응??\n"
     ]
    }
   ],
   "source": [
    "from retrieval_bot.engine import DefaultMessage\n",
    "\n",
    "default_message = DefaultMessage()\n",
    "for _ in range(5):\n",
    "    print(default_message.get_random_message())"
   ]
  },
  {
   "cell_type": "markdown",
   "metadata": {},
   "source": [
    "## Evaluator"
   ]
  },
  {
   "cell_type": "code",
   "execution_count": 11,
   "metadata": {},
   "outputs": [
    {
     "name": "stdout",
     "output_type": "stream",
     "text": [
      "뭐먹 - 피자 : 3.08618742336944\n",
      "뭐먹 - 치킨 : 3.852132624607777\n",
      "뭐먹 - 지하철 : 0\n",
      "뭐먹 - 사당역 : 0\n",
      "어디 - 피자 : 0\n",
      "어디 - 치킨 : 0.4396905736037917\n",
      "어디 - 지하철 : 2.259871019456051\n",
      "어디 - 사당역 : 0.2413882193124051\n"
     ]
    }
   ],
   "source": [
    "from retrieval_bot.evaluator import TermPairEvaluator\n",
    "\n",
    "evaluator = TermPairEvaluator(evaluator_model_path)\n",
    "for send_term in '뭐먹 어디'.split():\n",
    "    send_term_idx = vectorizer.encode_a_doc_to_bow(send_term)\n",
    "    for reply_term in '피자 치킨 지하철 사당역'.split():\n",
    "        reply_term_idx = vectorizer.encode_a_doc_to_bow(reply_term)\n",
    "        score = evaluator.evaluate(send_term_idx, reply_term_idx)\n",
    "        print('{} - {} : {}'.format(send_term, reply_term, score))"
   ]
  },
  {
   "cell_type": "markdown",
   "metadata": {},
   "source": [
    "## Engine"
   ]
  },
  {
   "cell_type": "code",
   "execution_count": 14,
   "metadata": {},
   "outputs": [],
   "source": [
    "from retrieval_bot.engine import InstanceBasedRetrievalEngine\n",
    "\n",
    "vectorizer.verbose = False\n",
    "send2reply.verbose = False\n",
    "\n",
    "engine = InstanceBasedRetrievalEngine(\n",
    "    vectorizer = vectorizer,\n",
    "    send2reply = send2reply,\n",
    "    send_indexer = send_indexer,\n",
    "    reply_x = reply_x,\n",
    "    evaluator = evaluator\n",
    ")"
   ]
  },
  {
   "cell_type": "code",
   "execution_count": 15,
   "metadata": {},
   "outputs": [
    {
     "data": {
      "text/plain": [
       "'음...'"
      ]
     },
     "execution_count": 15,
     "metadata": {},
     "output_type": "execute_result"
    }
   ],
   "source": [
    "engine.default_message.get_random_message()"
   ]
  },
  {
   "cell_type": "code",
   "execution_count": 16,
   "metadata": {},
   "outputs": [
    {
     "data": {
      "text/plain": [
       "['냐옹', '가구있엉', '안알랴줌', '집이댜', '카페']"
      ]
     },
     "execution_count": 16,
     "metadata": {},
     "output_type": "execute_result"
    }
   ],
   "source": [
    "engine.process('지금 어디냥? ')"
   ]
  },
  {
   "cell_type": "code",
   "execution_count": null,
   "metadata": {
    "collapsed": true
   },
   "outputs": [],
   "source": []
  }
 ],
 "metadata": {
  "kernelspec": {
   "display_name": "Python 3",
   "language": "python",
   "name": "python3"
  },
  "language_info": {
   "codemirror_mode": {
    "name": "ipython",
    "version": 3
   },
   "file_extension": ".py",
   "mimetype": "text/x-python",
   "name": "python",
   "nbconvert_exporter": "python",
   "pygments_lexer": "ipython3",
   "version": "3.6.2"
  }
 },
 "nbformat": 4,
 "nbformat_minor": 2
}
